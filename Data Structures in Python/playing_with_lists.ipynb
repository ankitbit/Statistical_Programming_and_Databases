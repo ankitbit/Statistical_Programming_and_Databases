{
 "cells": [
  {
   "cell_type": "markdown",
   "metadata": {},
   "source": [
    "There are several ways to create a new list; the simplest is to enclose the elements in square brackets ([ and ]): \n"
   ]
  },
  {
   "cell_type": "code",
   "execution_count": 13,
   "metadata": {
    "collapsed": false
   },
   "outputs": [
    {
     "name": "stdout",
     "output_type": "stream",
     "text": [
      "1 First Name: ANKIT\n",
      "2 Second Name TEWARI\n"
     ]
    }
   ],
   "source": [
    "a = [1, 2]\n",
    "l = [\"ANKIT\", \"TEWARI\"]\n",
    "k = [\"First Name:\", \"Second Name\"]\n",
    "print(a[0],k[0],l[0])\n",
    "print(a[1],k[1],l[1])"
   ]
  },
  {
   "cell_type": "code",
   "execution_count": null,
   "metadata": {
    "collapsed": true
   },
   "outputs": [],
   "source": []
  },
  {
   "cell_type": "markdown",
   "metadata": {},
   "source": [
    "We can also create a list of items in which each of the items is of a different type. So, let us create a list that has an integer, a float,a string and a function. Further, let us examine how each of the elements belongs to a different class."
   ]
  },
  {
   "cell_type": "code",
   "execution_count": 12,
   "metadata": {
    "collapsed": false
   },
   "outputs": [
    {
     "name": "stdout",
     "output_type": "stream",
     "text": [
      "<class 'list'>\n",
      "<class 'int'>\n",
      "<class 'float'>\n",
      "<class 'str'>\n",
      "<class 'builtin_function_or_method'>\n"
     ]
    }
   ],
   "source": [
    "l = [1, 3.14, \"Roger\", max]\n",
    "print(type(l))\n",
    "print(type(l[0]))\n",
    "print(type(l[1]))\n",
    "print(type(l[2]))\n",
    "print(type(l[3]))"
   ]
  },
  {
   "cell_type": "code",
   "execution_count": 23,
   "metadata": {
    "collapsed": false
   },
   "outputs": [
    {
     "name": "stdout",
     "output_type": "stream",
     "text": [
      "[1]\n"
     ]
    }
   ],
   "source": [
    "# Empty list\n",
    "# Nested list\n"
   ]
  },
  {
   "cell_type": "markdown",
   "metadata": {},
   "source": [
    "### Mutability of lists "
   ]
  },
  {
   "cell_type": "code",
   "execution_count": null,
   "metadata": {
    "collapsed": true
   },
   "outputs": [],
   "source": []
  },
  {
   "cell_type": "code",
   "execution_count": null,
   "metadata": {
    "collapsed": true
   },
   "outputs": [],
   "source": []
  },
  {
   "cell_type": "markdown",
   "metadata": {},
   "source": [
    "### Built-in functions for manipulating lists"
   ]
  },
  {
   "cell_type": "code",
   "execution_count": 84,
   "metadata": {
    "collapsed": false
   },
   "outputs": [
    {
     "name": "stdout",
     "output_type": "stream",
     "text": [
      "Elements of list are :  [0, 1, 2, 3, 4, 5, 6, 7, 8, 9]\n"
     ]
    }
   ],
   "source": [
    "# Mutability of lists\n",
    "my_list = list(range(10))\n",
    "print(\"Elements of list are : \", my_list)"
   ]
  },
  {
   "cell_type": "code",
   "execution_count": 35,
   "metadata": {
    "collapsed": false
   },
   "outputs": [
    {
     "name": "stdout",
     "output_type": "stream",
     "text": [
      "[0, 1, 2, 3, 4, 5, 6, 7, 8, 9]\n",
      "[0, 1, 2, 3, 4, 5, 6, 7, 8, 9, 10]\n",
      "10\n"
     ]
    }
   ],
   "source": [
    "print(my_list)\n",
    "\n",
    "my_list.append(10)\n",
    "print(my_list)\n",
    "\n",
    "my_list = my_list.pop()\n",
    "print(my_list)"
   ]
  },
  {
   "cell_type": "code",
   "execution_count": 36,
   "metadata": {
    "collapsed": false
   },
   "outputs": [
    {
     "name": "stdout",
     "output_type": "stream",
     "text": [
      "10\n"
     ]
    }
   ],
   "source": [
    "print(my_list)"
   ]
  },
  {
   "cell_type": "code",
   "execution_count": 85,
   "metadata": {
    "collapsed": false
   },
   "outputs": [
    {
     "name": "stdout",
     "output_type": "stream",
     "text": [
      "Present list:  [0, 1, 2, 3, 4, 5, 6, 7, 8, 9]\n",
      "Updated list:  [0, 1, 2, 3, 4, 5, 6, 7, 8, 9, 10]\n",
      "Extended list:  [0, 1, 2, 3, 4, 5, 6, 7, 8, 9, 10, 11, 12, 13]\n",
      "Reversed list:  [13, 12, 11, 10, 9, 8, 7, 6, 5, 4, 3, 2, 1, 0]\n",
      "Sorted list:  [0, 1, 2, 3, 4, 5, 6, 7, 8, 9, 10, 11, 12, 13]\n"
     ]
    }
   ],
   "source": [
    "# list method\n",
    "my_list = list(range(10))\n",
    "print(\"Present list: \",my_list)\n",
    "\n",
    "# append method\n",
    "my_list.append(10)\n",
    "print(\"Updated list: \", my_list)\n",
    "\n",
    "# extend method\n",
    "my_list.extend([11,12,13])\n",
    "print(\"Extended list: \", my_list)\n",
    "\n",
    "# reverse method\n",
    "my_list.reverse()\n",
    "print(\"Reversed list: \", my_list)\n",
    "\n",
    "# sort method\n",
    "my_list.sort()\n",
    "print(\"Sorted list: \", my_list)"
   ]
  },
  {
   "cell_type": "markdown",
   "metadata": {},
   "source": [
    "It is to be noted that previously defined **list methods are void** in nature. This means that these methods do not return anything. Rather, they immediately modify the list that is passed as argument to the method. However, they do not return anything in response when the function terminates. This means that if one writes a code like **new_list=my_list.sort( )** then the result will be disappointing because the **new_list** will not exist in principle. "
   ]
  },
  {
   "cell_type": "markdown",
   "metadata": {},
   "source": [
    "### Deleting elements from lists"
   ]
  },
  {
   "cell_type": "code",
   "execution_count": 86,
   "metadata": {
    "collapsed": false
   },
   "outputs": [
    {
     "name": "stdout",
     "output_type": "stream",
     "text": [
      "[0, 1, 2, 3, 4, 5, 6, 7, 8, 9, 10, 11, 12, 13]\n",
      "Index of element to be popped:  13\n",
      "After performing the operation using 'del' operator:  [0, 1, 2, 3, 4, 5, 6, 7, 8, 9, 10, 11, 12]\n",
      "Start\n"
     ]
    }
   ],
   "source": [
    "print(my_list)\n",
    "pop_element = len(my_list)\n",
    "print(\"Index of element to be popped: \", pop_element-1)\n",
    "\n",
    "# using del operator for deletion\n",
    "del my_list[pop_element-1]\n",
    "print(\"After performing the operation using 'del' operator: \",my_list)\n",
    "\n",
    "# pop method for removing the element with known index\n",
    "my_list.append(\"Start\")\n",
    "popped_element = my_list.pop()\n",
    "print(popped_element)"
   ]
  },
  {
   "cell_type": "code",
   "execution_count": 90,
   "metadata": {
    "collapsed": false
   },
   "outputs": [
    {
     "name": "stdout",
     "output_type": "stream",
     "text": [
      "[0, 1, 2, 3, 4, 6, 7, 8, 9, 10, 11, 12]\n",
      "12\n",
      "[0, 1, 2, 3, 4, 6, 7, 8, 9, 10, 11]\n"
     ]
    }
   ],
   "source": [
    "print(my_list)\n",
    "print(my_list.pop())\n",
    "print(my_list)"
   ]
  },
  {
   "cell_type": "code",
   "execution_count": 88,
   "metadata": {
    "collapsed": false
   },
   "outputs": [
    {
     "name": "stdout",
     "output_type": "stream",
     "text": [
      "[0, 1, 2, 3, 4, 5, 6, 7, 8, 9, 10, 11, 12]\n",
      "[0, 1, 2, 3, 4, 6, 7, 8, 9, 10, 11, 12]\n"
     ]
    }
   ],
   "source": [
    "# remove method\n",
    "print(my_list)\n",
    "my_list.remove(5)\n",
    "print(my_list)"
   ]
  },
  {
   "cell_type": "code",
   "execution_count": 95,
   "metadata": {
    "collapsed": false
   },
   "outputs": [
    {
     "name": "stdout",
     "output_type": "stream",
     "text": [
      "11\n",
      "0\n"
     ]
    }
   ],
   "source": [
    "# Adding lists with + operator"
   ]
  },
  {
   "cell_type": "markdown",
   "metadata": {},
   "source": [
    "### Comparing the length of list elements\n",
    "In case of list with numbers (both int and float type) as elements, the function **max** returns the largest element while the function **min** returns the smallest element in the list. The function **max** returns the element with the largest number of characters in a list of strings. "
   ]
  },
  {
   "cell_type": "code",
   "execution_count": 96,
   "metadata": {
    "collapsed": false
   },
   "outputs": [
    {
     "name": "stdout",
     "output_type": "stream",
     "text": [
      "Largest element: 11\n",
      "Smallest element:  0\n"
     ]
    }
   ],
   "source": [
    "print(\"Largest element:\",max(my_list))\n",
    "print(\"Smallest element: \",min(my_list))"
   ]
  },
  {
   "cell_type": "code",
   "execution_count": 94,
   "metadata": {
    "collapsed": false
   },
   "outputs": [
    {
     "name": "stdout",
     "output_type": "stream",
     "text": [
      "longest element:  Jonathan\n",
      "smallest element:  John\n"
     ]
    }
   ],
   "source": [
    "# define a list of strings and apply the methods max and min on it \n",
    "my_list_of_strings = [\"John\", \"Johny\", \"Jonathan\"]\n",
    "print(\"longest element: \",max(my_list_of_strings))\n",
    "print(\"smallest element: \",min(my_list_of_strings))"
   ]
  },
  {
   "cell_type": "code",
   "execution_count": 97,
   "metadata": {
    "collapsed": false
   },
   "outputs": [
    {
     "name": "stdout",
     "output_type": "stream",
     "text": [
      "Enter a number: 2\n",
      "Enter a number: 3.5\n",
      "Enter a number: 5\n",
      "Enter a number: done\n",
      "Average: 3.5\n"
     ]
    }
   ],
   "source": [
    "# sample program for counting average without using list\n",
    "total = 0\n",
    "count = 0\n",
    "while (True):\n",
    "    inp = input('Enter a number: ')\n",
    "    if inp == 'done': \n",
    "        break\n",
    "    value = float(inp)\n",
    "    total = total + value\n",
    "    count = count + 1\n",
    "\n",
    "average = total / count\n",
    "print('Average:', average)"
   ]
  },
  {
   "cell_type": "code",
   "execution_count": 98,
   "metadata": {
    "collapsed": false
   },
   "outputs": [
    {
     "name": "stdout",
     "output_type": "stream",
     "text": [
      "Enter a number: 2\n",
      "Enter a number: 3.5\n",
      "Enter a number: 5\n",
      "Enter a number: done\n",
      "Average: 3.5\n"
     ]
    }
   ],
   "source": [
    "# sample program for computing average using a list\n",
    "numlist = list()\n",
    "while (True):\n",
    "    inp = input('Enter a number: ')\n",
    "    if inp == 'done': break\n",
    "    value = float(inp)\n",
    "    numlist.append(value)\n",
    "\n",
    "average = sum(numlist) / len(numlist)\n",
    "print('Average:', average)"
   ]
  },
  {
   "cell_type": "markdown",
   "metadata": {},
   "source": [
    "### Illustrating **Split** and **Join**"
   ]
  },
  {
   "cell_type": "code",
   "execution_count": 120,
   "metadata": {
    "collapsed": false
   },
   "outputs": [
    {
     "name": "stdout",
     "output_type": "stream",
     "text": [
      "['I', 'sometimes', 'go', 'for', 'walk', 'with', 'my', 'dog']\n",
      "<class 'list'>\n",
      "I sometimes go for walk with my dog and cat\n"
     ]
    }
   ],
   "source": [
    "string_1 = \"I-sometimes-go-for-walk-with-my-dog\"\n",
    "delimiter='-'\n",
    "t = string_1.split(delimiter)\n",
    "print(t)\n",
    "# Note that Individual elements are accesible with index operator []\n",
    "\n",
    "string_2 = string_1.split(delimiter)\n",
    "#print(\"String 2:\", string_2)\n",
    "string_3 = ['and', 'cat']\n",
    "string_4 = string_2 + string_3\n",
    "print(type(string_4))\n",
    "\n",
    "# Exhibiting the joing method. String_5 correpsonds to the joined string using a blank space delmiter \n",
    "delimiter=' '\n",
    "string_5 = delimiter.join(string_4)\n",
    "print(string_5)\n",
    "\n"
   ]
  },
  {
   "cell_type": "code",
   "execution_count": 128,
   "metadata": {
    "collapsed": false
   },
   "outputs": [
    {
     "data": {
      "text/plain": [
       "[0, 1, 2, 3, 4]"
      ]
     },
     "execution_count": 128,
     "metadata": {},
     "output_type": "execute_result"
    }
   ],
   "source": [
    "a=[3,5]\n",
    "b=[3,5]\n",
    "a is b\n",
    "list(range(5))"
   ]
  },
  {
   "cell_type": "markdown",
   "metadata": {},
   "source": [
    "* Then write a function called middle that takes a list and returns a new list that contains all but the first and last elements.\n",
    "* Write a function called chop that takes a list and modifies it, removing the first and last elements, and returns None."
   ]
  },
  {
   "cell_type": "code",
   "execution_count": 133,
   "metadata": {
    "collapsed": false
   },
   "outputs": [
    {
     "name": "stdout",
     "output_type": "stream",
     "text": [
      "Output for middle function:  [1, 2, 3]\n",
      "Output for chop function:  None\n"
     ]
    }
   ],
   "source": [
    "def middle(t):\n",
    "    last = len(t)-1\n",
    "    t = t[1:last]\n",
    "    return t\n",
    "\n",
    "def chop(t):\n",
    "    last = len(t)-1\n",
    "    t = t[1:last]\n",
    "    \n",
    "print(\"Output for middle function: \",middle(list(range(5))))\n",
    "print(\"Output for chop function: \",chop(list(range(5))))"
   ]
  }
 ],
 "metadata": {
  "anaconda-cloud": {},
  "kernelspec": {
   "display_name": "Python [conda root]",
   "language": "python",
   "name": "conda-root-py"
  },
  "language_info": {
   "codemirror_mode": {
    "name": "ipython",
    "version": 3
   },
   "file_extension": ".py",
   "mimetype": "text/x-python",
   "name": "python",
   "nbconvert_exporter": "python",
   "pygments_lexer": "ipython3",
   "version": "3.5.2"
  }
 },
 "nbformat": 4,
 "nbformat_minor": 1
}
