{
 "cells": [
  {
   "cell_type": "markdown",
   "metadata": {},
   "source": [
    "### Mutable types"
   ]
  },
  {
   "cell_type": "code",
   "execution_count": 14,
   "metadata": {},
   "outputs": [
    {
     "name": "stdout",
     "output_type": "stream",
     "text": [
      "[1, 2, 3, 4, [0, 2, 3, 4]]\n",
      "[1, 2, 3, 4, [0, 2, 3, 4]]\n",
      "[1, 2, 3, 4, [0, '@', 3, 4]]\n",
      "[[1, 2, 3, 4, [...]], 2, 3, 4]\n"
     ]
    }
   ],
   "source": [
    "\n",
    "A = [1,2,3,4]\n",
    "B = [1,2,3,4,A]\n",
    "C = B\n",
    "A[0] = 0\n",
    "print(C)\n",
    "\n",
    "# list are passed as references to some object in data\n",
    "# list( ) function is a constructor \n",
    "# elements passed by reference not by value\n",
    "A = [1,2,3,4]\n",
    "B = [1,2,3,4,A]\n",
    "C = list(B)\n",
    "A[0] = 0\n",
    "print(C)\n",
    "B[0]=\"?\"\n",
    "A[1]=\"@\"\n",
    "print(C)\n",
    "\n",
    "\n",
    "\n",
    "\n",
    "# list storing itself results in an infinite loop\n",
    "A = [1,2,3,4]\n",
    "B = [1,2,3,4,A]\n",
    "A[0] = B\n",
    "print(A)\n",
    "\n"
   ]
  },
  {
   "cell_type": "code",
   "execution_count": 11,
   "metadata": {},
   "outputs": [
    {
     "data": {
      "text/plain": [
       "[1, 2, 3, 4, [0, 2, 3, 4]]"
      ]
     },
     "execution_count": 11,
     "metadata": {},
     "output_type": "execute_result"
    }
   ],
   "source": [
    "A[1]=100\n",
    "C"
   ]
  },
  {
   "cell_type": "markdown",
   "metadata": {},
   "source": [
    "### Dictionary \n",
    "It is basically an efficient table that maps keys to values. It is an unordered container.\n",
    "There is no limitation on what values the key and values can be.\n",
    "Dictionary is mutable like the lists.\n"
   ]
  },
  {
   "cell_type": "code",
   "execution_count": 5,
   "metadata": {},
   "outputs": [
    {
     "data": {
      "text/plain": [
       "{'Ankit': 8896, 'Cristian': 5678, 'Robert': 9818}"
      ]
     },
     "execution_count": 5,
     "metadata": {},
     "output_type": "execute_result"
    }
   ],
   "source": [
    "tel = {\"Ankit\": 1234, \"Cristian\": 5678, \"Robert\": 9818}\n",
    "tel[\"Ankit\"] # for querying the dictionary\n",
    "\n",
    "#Dictionary is mutable\n",
    "tel[\"Ankit\"] = 8896\n",
    "tel"
   ]
  },
  {
   "cell_type": "markdown",
   "metadata": {},
   "source": [
    "### Tuple\n",
    "It is everything separated by commas. Tuple builder is the comma operator. for e.g.\n",
    "Eleemnts of tuples are written between parenthesis \"(\" and \")\""
   ]
  },
  {
   "cell_type": "code",
   "execution_count": 20,
   "metadata": {},
   "outputs": [
    {
     "data": {
      "text/plain": [
       "2"
      ]
     },
     "execution_count": 20,
     "metadata": {},
     "output_type": "execute_result"
    }
   ],
   "source": [
    "t = 1,2,3,4,5,6,1\n",
    "# tuple functions also exist like list methods\n",
    "t.count(1)\n",
    "# count is used to \n",
    "# function returning tuples is a common thing. "
   ]
  },
  {
   "cell_type": "code",
   "execution_count": 22,
   "metadata": {},
   "outputs": [
    {
     "name": "stdout",
     "output_type": "stream",
     "text": [
      "1\n",
      "2\n",
      "(1, 2, 3)\n"
     ]
    },
    {
     "ename": "TypeError",
     "evalue": "'tuple' object does not support item assignment",
     "output_type": "error",
     "traceback": [
      "\u001b[0;31m---------------------------------------------------------------------------\u001b[0m",
      "\u001b[0;31mTypeError\u001b[0m                                 Traceback (most recent call last)",
      "\u001b[0;32m<ipython-input-22-97318d239f7c>\u001b[0m in \u001b[0;36m<module>\u001b[0;34m()\u001b[0m\n\u001b[1;32m      5\u001b[0m \u001b[0mprint\u001b[0m\u001b[0;34m(\u001b[0m\u001b[0mT\u001b[0m\u001b[0;34m)\u001b[0m\u001b[0;34m\u001b[0m\u001b[0m\n\u001b[1;32m      6\u001b[0m \u001b[0;34m\u001b[0m\u001b[0m\n\u001b[0;32m----> 7\u001b[0;31m \u001b[0mT\u001b[0m\u001b[0;34m[\u001b[0m\u001b[0;36m1\u001b[0m\u001b[0;34m]\u001b[0m\u001b[0;34m=\u001b[0m\u001b[0;34m\"@\"\u001b[0m\u001b[0;34m\u001b[0m\u001b[0m\n\u001b[0m\u001b[1;32m      8\u001b[0m \u001b[0mpritn\u001b[0m\u001b[0;34m(\u001b[0m\u001b[0mT\u001b[0m\u001b[0;34m)\u001b[0m\u001b[0;34m\u001b[0m\u001b[0m\n",
      "\u001b[0;31mTypeError\u001b[0m: 'tuple' object does not support item assignment"
     ]
    }
   ],
   "source": [
    "A,B,C = (1,2,3)\n",
    "print(A)\n",
    "print(B)\n",
    "T = (1,2,3)\n",
    "print(T)\n",
    "\n",
    "# tuples are immutable which we can observe from the following example\n",
    "T[1]=\"@\"\n",
    "pritn(T)"
   ]
  },
  {
   "cell_type": "code",
   "execution_count": 23,
   "metadata": {},
   "outputs": [
    {
     "name": "stdout",
     "output_type": "stream",
     "text": [
      "1\n",
      "[2, 3, 4, 5]\n",
      "6\n"
     ]
    }
   ],
   "source": [
    "# Observe the behaviour of the asterist * operator\n",
    "A,*B,C = (1,2,3,4,5,6)\n",
    "print(A)\n",
    "print(B)\n",
    "print(C)\n",
    "\n",
    "# the asterisk operator works equally well for lists also"
   ]
  },
  {
   "cell_type": "markdown",
   "metadata": {},
   "source": [
    "### Sets\n",
    "unordered, unique items are stored as sets. \n"
   ]
  }
 ],
 "metadata": {
  "kernelspec": {
   "display_name": "Python 3",
   "language": "python",
   "name": "python3"
  },
  "language_info": {
   "codemirror_mode": {
    "name": "ipython",
    "version": 3
   },
   "file_extension": ".py",
   "mimetype": "text/x-python",
   "name": "python",
   "nbconvert_exporter": "python",
   "pygments_lexer": "ipython3",
   "version": "3.6.3"
  }
 },
 "nbformat": 4,
 "nbformat_minor": 2
}
