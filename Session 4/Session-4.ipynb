{
 "cells": [
  {
   "cell_type": "code",
   "execution_count": null,
   "metadata": {
    "collapsed": true
   },
   "outputs": [],
   "source": []
  },
  {
   "cell_type": "markdown",
   "metadata": {},
   "source": [
    "The **Wallis formula** is described as-\n",
    "$$\n",
    "\\pi = 2 \\prod_{i=1}^{\\infty} \\frac{4 i²}{4 i² -1} \n",
    "$$\n"
   ]
  },
  {
   "cell_type": "code",
   "execution_count": 1,
   "metadata": {},
   "outputs": [],
   "source": [
    "def pi():\n",
    "    i = 1.0\n",
    "    out = 2.\n",
    "    while True:\n",
    "        yield out\n",
    "        out *= (4.*i**2)/(4.*i**2-1)\n",
    "        i+=1\n",
    "\n",
    "p = pi()"
   ]
  },
  {
   "cell_type": "code",
   "execution_count": 50,
   "metadata": {},
   "outputs": [
    {
     "data": {
      "text/plain": [
       "3.125440827280374"
      ]
     },
     "execution_count": 50,
     "metadata": {},
     "output_type": "execute_result"
    }
   ],
   "source": [
    "p.next()"
   ]
  },
  {
   "cell_type": "code",
   "execution_count": 82,
   "metadata": {},
   "outputs": [
    {
     "data": {
      "text/plain": [
       "999"
      ]
     },
     "execution_count": 82,
     "metadata": {},
     "output_type": "execute_result"
    }
   ],
   "source": [
    "p = [( (4*float(i)**2) / (4*float(i**2)-1) ) for i in range(1,1000)]\n",
    "len(p)"
   ]
  },
  {
   "cell_type": "code",
   "execution_count": 83,
   "metadata": {},
   "outputs": [
    {
     "name": "stdout",
     "output_type": "stream",
     "text": [
      "3.14080696083\n"
     ]
    }
   ],
   "source": [
    "product = 1\n",
    "for i in p:\n",
    "    product *= i\n",
    "print(product*2)"
   ]
  },
  {
   "cell_type": "code",
   "execution_count": null,
   "metadata": {
    "collapsed": true
   },
   "outputs": [],
   "source": []
  },
  {
   "cell_type": "markdown",
   "metadata": {},
   "source": [
    "The following code creates a lambda function and it is just like creating an inline function in R.\n"
   ]
  },
  {
   "cell_type": "code",
   "execution_count": null,
   "metadata": {
    "collapsed": true
   },
   "outputs": [],
   "source": [
    "### Understanding generating an inline function in R\n",
    "### lambda function - just like an inline function\n",
    "\n",
    "lambda x,y : x + y"
   ]
  },
  {
   "cell_type": "code",
   "execution_count": 62,
   "metadata": {},
   "outputs": [
    {
     "data": {
      "text/plain": [
       "3"
      ]
     },
     "execution_count": 62,
     "metadata": {},
     "output_type": "execute_result"
    }
   ],
   "source": [
    "m = lambda x,y:x + y\n",
    "m(1,2)"
   ]
  },
  {
   "cell_type": "code",
   "execution_count": 63,
   "metadata": {},
   "outputs": [
    {
     "data": {
      "text/plain": [
       "10"
      ]
     },
     "execution_count": 63,
     "metadata": {},
     "output_type": "execute_result"
    }
   ],
   "source": [
    "l = [1,2,3,4]\n",
    "# reduce uses a function as an argument and an interable object\n",
    "reduce(m,l)\n"
   ]
  },
  {
   "cell_type": "code",
   "execution_count": 87,
   "metadata": {},
   "outputs": [
    {
     "data": {
      "text/plain": [
       "[1, 4, 9, 16]"
      ]
     },
     "execution_count": 87,
     "metadata": {},
     "output_type": "execute_result"
    }
   ],
   "source": [
    "# map function\n",
    "# we can map a function to a list\n",
    "# this function is going to map this function to each element of the list\n",
    "# Here the function map acts just like the apply series of function in R\n",
    "\n",
    "map(lambda x: x**2, l)\n",
    "# Notice that reduce doesn't resemble to apply becuse when we use apply series of function we don't reduce anything. \n",
    "# reduce seems similar to summarize?\n",
    "# Hadoop uses the map reduce framework\n",
    "# par apply functon for parallelize code in R\n"
   ]
  },
  {
   "cell_type": "markdown",
   "metadata": {},
   "source": [
    "The **Wallis formula** is described as-\n",
    "$$\n",
    "\\pi = 2 \\prod_{i=1}^{\\infty} \\frac{4 i²}{4 i² -1} \n",
    "$$\n"
   ]
  },
  {
   "cell_type": "code",
   "execution_count": 81,
   "metadata": {},
   "outputs": [
    {
     "name": "stdout",
     "output_type": "stream",
     "text": [
      "3.14080696083\n"
     ]
    }
   ],
   "source": [
    "l = list(range(1,1000)) # the iterable object for applying the lambda function\n",
    "p = 1                   # initializing the product to be equal to one so that it stores product correctly\n",
    "product = map(lambda i : ((4*float(i)**2) / (4*float(i**2)-1)),l)\n",
    "for i in product:\n",
    "    p *= i\n",
    "print(p*2)"
   ]
  },
  {
   "cell_type": "code",
   "execution_count": 94,
   "metadata": {},
   "outputs": [
    {
     "data": {
      "text/plain": [
       "3.1408069608284657"
      ]
     },
     "execution_count": 94,
     "metadata": {},
     "output_type": "execute_result"
    }
   ],
   "source": [
    "# Another way\n",
    "x = lambda x: x*2 # lambda functcions always require a name\n",
    "l = range(1,1000)\n",
    "z = reduce(lambda x,y: x*y, map(lambda i : ((4*float(i)**2) / (4*float(i**2)-1)), l ))\n",
    "x(z)"
   ]
  },
  {
   "cell_type": "code",
   "execution_count": 66,
   "metadata": {},
   "outputs": [
    {
     "ename": "TypeError",
     "evalue": "<lambda>() takes exactly 2 arguments (1 given)",
     "output_type": "error",
     "traceback": [
      "\u001b[0;31m---------------------------------------------------------------------------\u001b[0m",
      "\u001b[0;31mTypeError\u001b[0m                                 Traceback (most recent call last)",
      "\u001b[0;32m<ipython-input-66-42bf5a827101>\u001b[0m in \u001b[0;36m<module>\u001b[0;34m()\u001b[0m\n\u001b[1;32m      1\u001b[0m \u001b[0mll\u001b[0m \u001b[0;34m=\u001b[0m \u001b[0;32mlambda\u001b[0m \u001b[0mx\u001b[0m\u001b[0;34m,\u001b[0m\u001b[0my\u001b[0m \u001b[0;34m:\u001b[0m \u001b[0mx\u001b[0m\u001b[0;34m*\u001b[0m\u001b[0my\u001b[0m\u001b[0;34m\u001b[0m\u001b[0m\n\u001b[0;32m----> 2\u001b[0;31m \u001b[0mmap\u001b[0m\u001b[0;34m(\u001b[0m\u001b[0mll\u001b[0m\u001b[0;34m,\u001b[0m\u001b[0ml\u001b[0m\u001b[0;34m)\u001b[0m\u001b[0;34m\u001b[0m\u001b[0m\n\u001b[0m",
      "\u001b[0;31mTypeError\u001b[0m: <lambda>() takes exactly 2 arguments (1 given)"
     ]
    }
   ],
   "source": [
    "ll = lambda x,y : x*y\n",
    "map(ll,l)"
   ]
  },
  {
   "cell_type": "code",
   "execution_count": 86,
   "metadata": {},
   "outputs": [
    {
     "data": {
      "text/plain": [
       "24"
      ]
     },
     "execution_count": 86,
     "metadata": {},
     "output_type": "execute_result"
    }
   ],
   "source": [
    "l = [1,2,3,4]\n",
    "reduce(lambda x,y : x*y, l)\n"
   ]
  },
  {
   "cell_type": "code",
   "execution_count": 67,
   "metadata": {},
   "outputs": [
    {
     "data": {
      "text/plain": [
       "[1, 3]"
      ]
     },
     "execution_count": 67,
     "metadata": {},
     "output_type": "execute_result"
    }
   ],
   "source": [
    "# applying thr filter class of function on the iterable object\n",
    "filter(lambda x: x%2, l)"
   ]
  },
  {
   "cell_type": "code",
   "execution_count": null,
   "metadata": {
    "collapsed": true
   },
   "outputs": [],
   "source": []
  },
  {
   "cell_type": "code",
   "execution_count": null,
   "metadata": {
    "collapsed": true
   },
   "outputs": [],
   "source": [
    "# try and catch\n",
    "# finally executes always\n"
   ]
  },
  {
   "cell_type": "code",
   "execution_count": 99,
   "metadata": {},
   "outputs": [
    {
     "name": "stdout",
     "output_type": "stream",
     "text": [
      "X IS 2\n",
      "X IS 2\n"
     ]
    }
   ],
   "source": [
    "x= 6\n",
    "def setx(y):\n",
    "    x = y\n",
    "    print('X IS %d' %x)\n",
    "setx(2)\n",
    "\n",
    "def setx(y):\n",
    "    global x\n",
    "    x = y\n",
    "    print('X IS %d' %x)\n",
    "setx(2)"
   ]
  },
  {
   "cell_type": "code",
   "execution_count": 100,
   "metadata": {},
   "outputs": [
    {
     "name": "stdout",
     "output_type": "stream",
     "text": [
      "Hello! World!\n",
      "Hello! Solar System\n",
      "Hello Galaxy\n"
     ]
    }
   ],
   "source": [
    "## documenting a function\n",
    "# decorators as function wrappers\n",
    "def helloSolarSystem(original_function):\n",
    "    def new_function():\n",
    "        original_function()\n",
    "        print(\"Hello! Solar System\")\n",
    "    return new_function\n",
    "\n",
    "def helloGalaxy(original_function):\n",
    "    def new_function():\n",
    "        original_function()\n",
    "        print(\"Hello Galaxy\")\n",
    "    return new_function\n",
    "\n",
    "@helloGalaxy\n",
    "@helloSolarSystem\n",
    "def hello():\n",
    "    print(\"Hello! World!\")\n",
    "    \n",
    "hello()"
   ]
  }
 ],
 "metadata": {
  "kernelspec": {
   "display_name": "Python 2",
   "language": "python",
   "name": "python2"
  },
  "language_info": {
   "codemirror_mode": {
    "name": "ipython",
    "version": 2
   },
   "file_extension": ".py",
   "mimetype": "text/x-python",
   "name": "python",
   "nbconvert_exporter": "python",
   "pygments_lexer": "ipython2",
   "version": "2.7.13"
  }
 },
 "nbformat": 4,
 "nbformat_minor": 2
}
