{
 "cells": [
  {
   "cell_type": "code",
   "execution_count": 113,
   "metadata": {
    "collapsed": true
   },
   "outputs": [],
   "source": [
    "#data generation and visualization\n",
    "import numpy as np\n",
    "import matplotlib.pyplot as plt\n",
    "linalg = np.linalg\n",
    "\n",
    "N = 1000\n",
    "mean = [1, 1, 2, 1]\n",
    "cov = [[1.00, 0.4, 0.35, 0.20],\n",
    "       [0.40, 1.0, 0, 0],\n",
    "       [0.35, 0, 1.0, 0],\n",
    "       [0.20, 0,   0, 1.0]]\n",
    "data = np.random.multivariate_normal(mean, cov, N)"
   ]
  },
  {
   "cell_type": "code",
   "execution_count": 114,
   "metadata": {},
   "outputs": [
    {
     "data": {
      "text/plain": [
       "array([[ 0.81656319,  3.18856595,  1.44813922,  1.00047703],\n",
       "       [ 1.56439989, -0.89911994,  2.49666464,  1.25320522],\n",
       "       [-0.01432161,  1.31814505,  2.13205664,  2.1543507 ],\n",
       "       ..., \n",
       "       [ 0.20342303,  0.65665006,  2.77868416,  1.78622714],\n",
       "       [ 3.10490998,  1.76990431,  2.30730261,  0.46955475],\n",
       "       [ 1.27199493, -0.28681438,  2.05182988,  0.04007219]])"
      ]
     },
     "execution_count": 114,
     "metadata": {},
     "output_type": "execute_result"
    }
   ],
   "source": [
    "data"
   ]
  },
  {
   "cell_type": "code",
   "execution_count": 115,
   "metadata": {
    "collapsed": true
   },
   "outputs": [],
   "source": [
    "\n",
    "def principal_component_analysis(data):\n",
    "    nrow = data.shape[0]\n",
    "    ncol = data.shape[1]\n",
    "    # computing the covariance matrix\n",
    "    mean_vector = np.mean(data, axis=0)\n",
    "    covariance_matrix = (data - mean_vector).T.dot((data - mean_vector)) / (data.shape[0]-1)\n",
    "    eigen_val, eigen_vec = np.linalg.eig(covariance_matrix)\n",
    "    \n",
    "    eig_vals, eig_vecs = np.linalg.eig(covariance_matrix)\n",
    "    # Make a list of (eigenvalue, eigenvector) tuples\n",
    "    eig_pairs = [(np.abs(eigen_val[i]), eigen_vec[:,i]) for i in range(len(eigen_val))]\n",
    "    # Sort the (eigenvalue, eigenvector) tuples from high to low\n",
    "    eig_pairs.sort()\n",
    "    eig_pairs.reverse()\n",
    "\n",
    "    # verification of correctly sorted eigenvalues by decreasing order\n",
    "    print('Eigenvalues in descending order:')\n",
    "    for i in eig_pairs:\n",
    "        print(i[0])\n",
    "    \n",
    "    # Here, we are reducing the 4-dimensional feature space to a 2-dimensional feature subspace, \n",
    "    # by choosing the \"top 2\" eigenvectors with the highest eigenvalues to construct our \n",
    "    # d×k d×k-dimensional eigenvector matrix WW.\n",
    "    matrix_w = np.hstack((eig_pairs[0][1].reshape(4,1), \n",
    "                      eig_pairs[1][1].reshape(4,1)))\n",
    "    print('Matrix W: \\n', matrix_w)\n",
    "    # Projection onto the New Feature Space: T is the new matrix\n",
    "    T = data.dot(matrix_w)\n",
    "    result =(T, eig_pairs)\n",
    "    return(result)"
   ]
  },
  {
   "cell_type": "code",
   "execution_count": 116,
   "metadata": {},
   "outputs": [
    {
     "name": "stdout",
     "output_type": "stream",
     "text": [
      "Eigenvalues in descending order:\n",
      "1.65151307918\n",
      "1.00306395696\n",
      "0.938638142983\n",
      "0.466588904439\n",
      "('Matrix W: \\n', array([[-0.72401025, -0.08319829],\n",
      "       [-0.53537919,  0.0635493 ],\n",
      "       [-0.30969352, -0.65409746],\n",
      "       [-0.30539843,  0.74913019]]))\n"
     ]
    },
    {
     "data": {
      "text/plain": [
       "(array([[-3.05231543, -0.06304216],\n",
       "        [-1.80719922, -0.88154197],\n",
       "        [-2.0135579 ,  0.30427506],\n",
       "        ..., \n",
       "        [-1.90488859, -0.45460836],\n",
       "        [-4.05351454, -1.30329016],\n",
       "        [-1.41505932, -1.43613208]]),\n",
       " [(1.6515130791820885,\n",
       "   array([-0.72401025, -0.53537919, -0.30969352, -0.30539843])),\n",
       "  (1.0030639569550748,\n",
       "   array([-0.08319829,  0.0635493 , -0.65409746,  0.74913019])),\n",
       "  (0.93863814298268089,\n",
       "   array([ 0.04741339, -0.66768295,  0.52785617,  0.52279949])),\n",
       "  (0.4665889044394339,\n",
       "   array([-0.68310993,  0.51335181,  0.4445383 ,  0.26873118]))])"
      ]
     },
     "execution_count": 116,
     "metadata": {},
     "output_type": "execute_result"
    }
   ],
   "source": [
    "# Exhibition of results obtained\n",
    "principal_component_analysis(data)"
   ]
  },
  {
   "cell_type": "code",
   "execution_count": null,
   "metadata": {},
   "outputs": [],
   "source": []
  },
  {
   "cell_type": "code",
   "execution_count": 80,
   "metadata": {},
   "outputs": [],
   "source": []
  },
  {
   "cell_type": "code",
   "execution_count": 112,
   "metadata": {},
   "outputs": [],
   "source": []
  },
  {
   "cell_type": "code",
   "execution_count": null,
   "metadata": {},
   "outputs": [],
   "source": []
  }
 ],
 "metadata": {
  "kernelspec": {
   "display_name": "python3.5",
   "language": "python",
   "name": "python3.5"
  },
  "language_info": {
   "codemirror_mode": {
    "name": "ipython",
    "version": 2
   },
   "file_extension": ".py",
   "mimetype": "text/x-python",
   "name": "python",
   "nbconvert_exporter": "python",
   "pygments_lexer": "ipython2",
   "version": "2.7.12"
  }
 },
 "nbformat": 4,
 "nbformat_minor": 2
}
