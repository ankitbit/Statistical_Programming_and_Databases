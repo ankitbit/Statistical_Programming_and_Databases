{
 "cells": [
  {
   "cell_type": "code",
   "execution_count": 21,
   "metadata": {},
   "outputs": [],
   "source": [
    "import numpy as np\n",
    "import matplotlib.pyplot as plt\n",
    "linalg = np.linalg\n",
    "\n",
    "N = 1000\n",
    "mean = [1, 1, 2, 1]\n",
    "cov = [[1.00, 0.4, 0.35, 0.20],\n",
    "       [0.40, 1.0, 0, 0],\n",
    "       [0.35, 0, 1.0, 0],\n",
    "       [0.20, 0,   0, 1.0]]\n",
    "data = np.random.multivariate_normal(mean, cov, N)\n"
   ]
  },
  {
   "cell_type": "code",
   "execution_count": 32,
   "metadata": {},
   "outputs": [
    {
     "name": "stdout",
     "output_type": "stream",
     "text": [
      "(1000, 4)\n",
      "(4, 4)\n"
     ]
    }
   ],
   "source": [
    "# Our data is of 4 dimensions and 1000 entries in the obseravtions \n",
    "# and is distributed according to the variance-covariance matrix we have defined above\n",
    "print(data.shape)\n",
    "print(L.shape)\n",
    "\n",
    "print"
   ]
  },
  {
   "cell_type": "code",
   "execution_count": 37,
   "metadata": {},
   "outputs": [
    {
     "name": "stdout",
     "output_type": "stream",
     "text": [
      "[[ 0.96590233]\n",
      " [ 0.99883804]\n",
      " [ 2.00969838]\n",
      " [ 1.01585087]]\n"
     ]
    }
   ],
   "source": [
    "# computing the mean vector\n",
    "mean_0 = np.mean(data[:,0])\n",
    "mean_1 = np.mean(data[:,1])\n",
    "mean_2 = np.mean(data[:,2])\n",
    "mean_3 = np.mean(data[:,3])\n",
    "mean_vector = np.array([[mean_0],[mean_1],[mean_2], [mean_3]])\n",
    "print(mean_vector)"
   ]
  },
  {
   "cell_type": "code",
   "execution_count": 43,
   "metadata": {},
   "outputs": [
    {
     "name": "stdout",
     "output_type": "stream",
     "text": [
      "[[ 1.04842535  0.39648948  0.39989012  0.2608012 ]\n",
      " [ 0.39648948  0.97604434 -0.01451503  0.00415564]\n",
      " [ 0.39989012 -0.01451503  1.11649238  0.00784505]\n",
      " [ 0.2608012   0.00415564  0.00784505  0.95367707]]\n"
     ]
    }
   ],
   "source": [
    "# Var-covar matrix\n",
    "covariance_matrix = np.cov([data[:,0], data[:,1], data[:,2], data[:,3]])\n",
    "covariance_matrix.shape\n",
    "print(covariance_matrix)\n"
   ]
  },
  {
   "cell_type": "code",
   "execution_count": 63,
   "metadata": {},
   "outputs": [
    {
     "name": "stdout",
     "output_type": "stream",
     "text": [
      "[ 1.66136439  0.41221491  1.06694272  0.95411711]\n",
      "Eigen Vectors Follows\n",
      "[[-0.70910462 -0.69625481  0.11066997  0.0123301 ]\n",
      " [-0.40100497  0.49755939  0.61269761 -0.46500678]\n",
      " [-0.51361891  0.40196125 -0.74936515 -0.11434438]\n",
      " [-0.26937198  0.32571621  0.22540112  0.87780523]]\n"
     ]
    }
   ],
   "source": [
    "# eigen decomposition of the var-coavar matrix\n",
    "eigen_val, eigen_vec = linalg.eig(covariance_matrix)\n",
    "print(eigen_val)\n",
    "print(\"Eigen Vectors Follows\")\n",
    "print(eigen_vec)"
   ]
  },
  {
   "cell_type": "code",
   "execution_count": null,
   "metadata": {
    "collapsed": true
   },
   "outputs": [],
   "source": []
  },
  {
   "cell_type": "code",
   "execution_count": 66,
   "metadata": {},
   "outputs": [
    {
     "name": "stdout",
     "output_type": "stream",
     "text": [
      "[1 3 2 0]\n"
     ]
    }
   ],
   "source": [
    "# sorting the eigen values by decreasing eigen vectors\n",
    "sorted_index = eigen_val.argsort()\n",
    "print(sorted_index)"
   ]
  },
  {
   "cell_type": "code",
   "execution_count": null,
   "metadata": {
    "collapsed": true
   },
   "outputs": [],
   "source": [
    "sorted_eigenvectors = np.array()"
   ]
  },
  {
   "cell_type": "code",
   "execution_count": null,
   "metadata": {
    "collapsed": true
   },
   "outputs": [],
   "source": [
    "def Principal_Component_Analysis ()"
   ]
  },
  {
   "cell_type": "code",
   "execution_count": null,
   "metadata": {
    "collapsed": true
   },
   "outputs": [],
   "source": []
  }
 ],
 "metadata": {
  "kernelspec": {
   "display_name": "python3.5",
   "language": "python",
   "name": "python3.5"
  },
  "language_info": {
   "codemirror_mode": {
    "name": "ipython",
    "version": 2
   },
   "file_extension": ".py",
   "mimetype": "text/x-python",
   "name": "python",
   "nbconvert_exporter": "python",
   "pygments_lexer": "ipython2",
   "version": "2.7.12"
  }
 },
 "nbformat": 4,
 "nbformat_minor": 2
}
